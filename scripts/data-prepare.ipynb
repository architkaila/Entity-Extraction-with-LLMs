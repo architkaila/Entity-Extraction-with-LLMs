{
 "cells": [
  {
   "cell_type": "code",
   "execution_count": 13,
   "metadata": {},
   "outputs": [],
   "source": [
    "from openai import OpenAI\n",
    "import openai\n",
    "import json"
   ]
  },
  {
   "cell_type": "code",
   "execution_count": 14,
   "metadata": {},
   "outputs": [],
   "source": [
    "drug_name = \"Viagra\"\n",
    "drug_report = \"\"\"\n",
    "Viagra relaxes muscles found in the walls of blood vessels and increases blood\n",
    "flow to particular areas of the body.\n",
    "\n",
    "Viagra is used to treat erectile dysfunction (impotence) in men. Another brand\n",
    "of sildenafil is Revatio, which is used to treat pulmonary arterial\n",
    "hypertension and improve exercise capacity in men and women. This page\n",
    "contains specific information for Viagra, not Revatio.\n",
    "\n",
    "Do not take Viagra while also taking Revatio, unless your doctor tells you to.\n",
    "\n",
    "\n",
    "\n",
    "\n",
    "\n",
    "Get emergency medical help if you have **signs of an allergic reaction to\n",
    "Viagra:** hives; difficulty breathing; swelling of your face, lips, tongue, or\n",
    "throat.\n",
    "\n",
    "**Stop taking Viagra and get emergency medical help if you have:**\n",
    "\n",
    "  * heart attack symptoms--chest pain or pressure, pain spreading to your jaw or shoulder, nausea, sweating;\n",
    "\n",
    "  * vision changes or sudden vision loss; or\n",
    "\n",
    "  * erection is painful or lasts longer than 4 hours (prolonged erection can damage the penis).\n",
    "\n",
    "Call your doctor at once if you have:\n",
    "\n",
    "  * ringing in your ears, or sudden hearing loss;\n",
    "\n",
    "  * irregular heartbeat;\n",
    "\n",
    "  * swelling in your hands, ankles, or feet;\n",
    "\n",
    "  * shortness of breath;\n",
    "\n",
    "  * seizure (convulsions); or\n",
    "\n",
    "  * a light-headed feeling, like you might pass out.\n",
    "\n",
    "Common Viagra side effects may include:\n",
    "\n",
    "  * flushing (warmth, redness, or tingly feeling);\n",
    "\n",
    "  * headache, dizziness;\n",
    "\n",
    "  * abnormal vision (blurred vision, changes in color vision)\n",
    "\n",
    "  * runny or stuffy nose, nosebleeds;\n",
    "\n",
    "  * sleep problems (insomnia);\n",
    "\n",
    "  * muscle pain, back pain; or\n",
    "\n",
    "  * upset stomach.\n",
    "\n",
    "This is not a complete list of side effects and others may occur. Call your\n",
    "doctor for medical advice about side effects. You may report side effects to\n",
    "FDA at 1-800-FDA-1088.\n",
    "\n",
    "Viagra side effects (more detail)\n",
    "\"\"\""
   ]
  },
  {
   "cell_type": "code",
   "execution_count": 15,
   "metadata": {},
   "outputs": [
    {
     "name": "stdout",
     "output_type": "stream",
     "text": [
      "Sample Adverse Event reports:\n",
      "[\n",
      "    {\n",
      "        \"input\": \"Nicole Moore\n",
      "                moore123nicole@hotmail.com\n",
      "                32 McMurray Court, Columbia, SC 41250\n",
      "                9840105113, United States \n",
      "                \n",
      "                Relationship to XYZ Pharma Inc.: Patient or Caregiver\n",
      "                Reason for contacting: Adverse Event\n",
      "                \n",
      "                Message: Yes, I have been taking Mylan’s brand of Metroprolol for two years now and with no problem. I recently had my prescription refilled with the same Mylan Metoprolol and I’m having a hard time sleeping at night along with running nose. Did you possibly change something with the pill...possibly different fillers? The pharmacist at CVS didn’t have any information for me. Thank you, Nicole Moore\", \n",
      "        \"output\": {\n",
      "            \"drug_name\":\"Metroprolol\",\n",
      "            \"adverse_events\": [\"hard time sleeping at night\", \"running nose\"]\n",
      "        }\n",
      "    },\n",
      "    {\n",
      "        \"input\": \"Jack Ryan,\n",
      "                jack3rayan@gmail.com\n",
      "                120 Erwin RD, Canonsburg, PA 21391,\n",
      "                2133681441, United States\n",
      "                \n",
      "                Relationship to XYZ Pharma Inc.: Patient\n",
      "                Reason for contacting: Defective Product\n",
      "                \n",
      "                Message: I recently purchased a Wixela inhub 250/50 at my local CVS pharmacy and the inhaler appears to be defective. When I try and activate it, the yellow knob only goes down halfway. I just removed this one from the wrapper so I know it's not empty. The pharmacy wouldn't exchange it so I am contacting you to get a replacement. Thank you for your time and consideration in this matter\",\n",
      "        \"output\": {\n",
      "            \"drug_name\":\"Wixela inhub 250/50\",\n",
      "            \"adverse_events\": [\"defective inhaler\"]\n",
      "        }\n",
      "    },\n",
      "]\n",
      "\n",
      "Now create Adverse Event Reports in a similar way for the Drug - Viagra. \n",
      "\n",
      "You have more information about the drug's use and its side effects below:\n",
      "\n",
      "Viagra relaxes muscles found in the walls of blood vessels and increases blood\n",
      "flow to particular areas of the body.\n",
      "\n",
      "Viagra is used to treat erectile dysfunction (impotence) in men. Another brand\n",
      "of sildenafil is Revatio, which is used to treat pulmonary arterial\n",
      "hypertension and improve exercise capacity in men and women. This page\n",
      "contains specific information for Viagra, not Revatio.\n",
      "\n",
      "Do not take Viagra while also taking Revatio, unless your doctor tells you to.\n",
      "\n",
      "\n",
      "\n",
      "\n",
      "\n",
      "Get emergency medical help if you have **signs of an allergic reaction to\n",
      "Viagra:** hives; difficulty breathing; swelling of your face, lips, tongue, or\n",
      "throat.\n",
      "\n",
      "**Stop taking Viagra and get emergency medical help if you have:**\n",
      "\n",
      "  * heart attack symptoms--chest pain or pressure, pain spreading to your jaw or shoulder, nausea, sweating;\n",
      "\n",
      "  * vision changes or sudden vision loss; or\n",
      "\n",
      "  * erection is painful or lasts longer than 4 hours (prolonged erection can damage the penis).\n",
      "\n",
      "Call your doctor at once if you have:\n",
      "\n",
      "  * ringing in your ears, or sudden hearing loss;\n",
      "\n",
      "  * irregular heartbeat;\n",
      "\n",
      "  * swelling in your hands, ankles, or feet;\n",
      "\n",
      "  * shortness of breath;\n",
      "\n",
      "  * seizure (convulsions); or\n",
      "\n",
      "  * a light-headed feeling, like you might pass out.\n",
      "\n",
      "Common Viagra side effects may include:\n",
      "\n",
      "  * flushing (warmth, redness, or tingly feeling);\n",
      "\n",
      "  * headache, dizziness;\n",
      "\n",
      "  * abnormal vision (blurred vision, changes in color vision)\n",
      "\n",
      "  * runny or stuffy nose, nosebleeds;\n",
      "\n",
      "  * sleep problems (insomnia);\n",
      "\n",
      "  * muscle pain, back pain; or\n",
      "\n",
      "  * upset stomach.\n",
      "\n",
      "This is not a complete list of side effects and others may occur. Call your\n",
      "doctor for medical advice about side effects. You may report side effects to\n",
      "FDA at 1-800-FDA-1088.\n",
      "\n",
      "Viagra side effects (more detail)\n",
      "\n",
      "\n",
      "Generate 20 different reports each with different side effects. Mention one or two side effects in each report at max. You have to prepare data for Entity Extraction of 2 entities: \"drug_name\" and \"adverse_events\" only.\n",
      "Followng the following format for the final output:\n",
      "\n",
      "[\n",
      "    {\n",
      "    \"input\":\"## Generated Report Here\",\n",
      "    \"output\": { \"drug_name\":\"## Name of Drug\", \"adverse_events\": [\"side effect 1\", \"side effect 2\"] }\n",
      "    },\n",
      "    {\n",
      "    \"input\":\"## Generated Report Here\",\n",
      "    \"output\": { \"drug_name\":\"## Name of Drug\", \"adverse_events\": [\"side effect 1\", \"side effect 2\"] }\n",
      "    },\n",
      "]\n",
      "\n"
     ]
    }
   ],
   "source": [
    "prompt = f\"\"\"Sample Adverse Event reports:\n",
    "[\n",
    "    {{\n",
    "        \"input\": \"Nicole Moore\n",
    "                moore123nicole@hotmail.com\n",
    "                32 McMurray Court, Columbia, SC 41250\n",
    "                9840105113, United States \n",
    "                \n",
    "                Relationship to XYZ Pharma Inc.: Patient or Caregiver\n",
    "                Reason for contacting: Adverse Event\n",
    "                \n",
    "                Message: Yes, I have been taking Mylan’s brand of Metroprolol for two years now and with no problem. I recently had my prescription refilled with the same Mylan Metoprolol and I’m having a hard time sleeping at night along with running nose. Did you possibly change something with the pill...possibly different fillers? The pharmacist at CVS didn’t have any information for me. Thank you, Nicole Moore\", \n",
    "        \"output\": {{\n",
    "            \"drug_name\":\"Metroprolol\",\n",
    "            \"adverse_events\": [\"hard time sleeping at night\", \"running nose\"]\n",
    "        }}\n",
    "    }},\n",
    "    {{\n",
    "        \"input\": \"Jack Ryan,\n",
    "                jack3rayan@gmail.com\n",
    "                120 Erwin RD, Canonsburg, PA 21391,\n",
    "                2133681441, United States\n",
    "                \n",
    "                Relationship to XYZ Pharma Inc.: Patient\n",
    "                Reason for contacting: Defective Product\n",
    "                \n",
    "                Message: I recently purchased a Wixela inhub 250/50 at my local CVS pharmacy and the inhaler appears to be defective. When I try and activate it, the yellow knob only goes down halfway. I just removed this one from the wrapper so I know it's not empty. The pharmacy wouldn't exchange it so I am contacting you to get a replacement. Thank you for your time and consideration in this matter\",\n",
    "        \"output\": {{\n",
    "            \"drug_name\":\"Wixela inhub 250/50\",\n",
    "            \"adverse_events\": [\"defective inhaler\"]\n",
    "        }}\n",
    "    }},\n",
    "]\n",
    "\n",
    "Now create Adverse Event Reports in a similar way for the Drug - {drug_name}. \n",
    "\n",
    "You have more information about the drug's use and its side effects below:\n",
    "{drug_report}\n",
    "\n",
    "Generate 20 different reports each with different side effects. Mention one or two side effects in each report at max. You have to prepare data for Entity Extraction of 2 entities: \"drug_name\" and \"adverse_events\" only.\n",
    "Followng the following format for the final output:\n",
    "\n",
    "[\n",
    "    {{\n",
    "    \"input\":\"## Generated Report Here\",\n",
    "    \"output\": {{ \"drug_name\":\"## Name of Drug\", \"adverse_events\": [\"side effect 1\", \"side effect 2\"] }}\n",
    "    }},\n",
    "    {{\n",
    "    \"input\":\"## Generated Report Here\",\n",
    "    \"output\": {{ \"drug_name\":\"## Name of Drug\", \"adverse_events\": [\"side effect 1\", \"side effect 2\"] }}\n",
    "    }},\n",
    "]\n",
    "\"\"\"\n",
    "\n",
    "print(prompt)\n"
   ]
  },
  {
   "cell_type": "code",
   "execution_count": 16,
   "metadata": {},
   "outputs": [],
   "source": [
    "def generate_adverse_event_report():\n",
    "    # OpenAI Client\n",
    "    client = OpenAI(api_key = '')\n",
    "    \n",
    "    # OpenAI Completion API\n",
    "    response = client.chat.completions.create(\n",
    "      model=\"gpt-4-1106-preview\",\n",
    "      messages=[\n",
    "          {\"role\": \"system\", \"content\": \"Act as an expert Analyst with 20+ years of experience in Pharma and Healthcare industry. You have to generate Adverse Event Reports in properly formatted JSON\"},\n",
    "          {\"role\": \"user\", \"content\": prompt}],\n",
    "      response_format={ \"type\": \"json_object\" },\n",
    "      temperature=1,\n",
    "      max_tokens=3500,\n",
    "      top_p=1,\n",
    "      frequency_penalty=0,\n",
    "      presence_penalty=0\n",
    "    )\n",
    "\n",
    "    return response.choices[0].message.content.strip()"
   ]
  },
  {
   "cell_type": "code",
   "execution_count": 17,
   "metadata": {},
   "outputs": [],
   "source": [
    "reports = generate_adverse_event_report()"
   ]
  },
  {
   "cell_type": "code",
   "execution_count": 20,
   "metadata": {},
   "outputs": [
    {
     "data": {
      "text/plain": [
       "'{\\n        \"input\": \"Michael Smith, smithy_mike@example.com, 47 W 13th St, New York, NY 10011, 5557390122, United States Relationship to XYZ Pharma Inc.: Patient Reason for contacting: Adverse Event Message: Since I started using Viagra, I’ve noticed I have headaches and also an unusual flushed feeling. - Michael Smith\",\\n        \"output\": {\\n            \"drug_name\":\"Viagra\",\\n            \"adverse_events\": [\"headaches\", \"flushed feeling\"]\\n        }\\n    }'"
      ]
     },
     "execution_count": 20,
     "metadata": {},
     "output_type": "execute_result"
    }
   ],
   "source": [
    "reports"
   ]
  },
  {
   "cell_type": "code",
   "execution_count": 21,
   "metadata": {},
   "outputs": [],
   "source": [
    "# Convert the string response to a Python Dict\n",
    "output_list = json.loads(reports)"
   ]
  },
  {
   "cell_type": "code",
   "execution_count": 22,
   "metadata": {},
   "outputs": [
    {
     "data": {
      "text/plain": [
       "{'input': 'Michael Smith, smithy_mike@example.com, 47 W 13th St, New York, NY 10011, 5557390122, United States Relationship to XYZ Pharma Inc.: Patient Reason for contacting: Adverse Event Message: Since I started using Viagra, I’ve noticed I have headaches and also an unusual flushed feeling. - Michael Smith',\n",
       " 'output': {'drug_name': 'Viagra',\n",
       "  'adverse_events': ['headaches', 'flushed feeling']}}"
      ]
     },
     "execution_count": 22,
     "metadata": {},
     "output_type": "execute_result"
    }
   ],
   "source": [
    "output_list"
   ]
  },
  {
   "cell_type": "code",
   "execution_count": 2,
   "metadata": {},
   "outputs": [],
   "source": [
    "import json\n",
    "with open(\"/Users/architkaila/Documents/GitHub/Entity-Extraction-with-LLMs/data-preparation/entity_extraction_reports/Prozac.txt\", \"r\") as f:\n",
    "    json_string = f.read()\n",
    "\n",
    "json_data = json.loads(json_string)\n",
    "\n",
    "\n"
   ]
  },
  {
   "cell_type": "code",
   "execution_count": 3,
   "metadata": {},
   "outputs": [
    {
     "data": {
      "text/plain": [
       "[{'input': \"Emily Wilson\\nemily.wilson@email.com\\n123 Elm Street, Boston, MA 02101\\n555-123-4567, United States\\n\\nRelationship to XYZ Pharma Inc.: Patient\\nReason for contacting: Adverse Event\\n\\nMessage: I've been taking Prozac for my panic disorder, and I've noticed a decrease in my sex drive and difficulty having an orgasm. Is this a common side effect of the medication?\",\n",
       "  'output': {'drug_name': 'Prozac',\n",
       "   'adverse_events': ['decreased sex drive', 'difficulty having an orgasm']}},\n",
       " {'input': \"Oliver Smith\\noliver.smith@email.com\\n456 Oak Avenue, Chicago, IL 60601\\n555-234-5678, United States\\n\\nRelationship to XYZ Pharma Inc.: Patient\\nReason for contacting: Adverse Event\\n\\nMessage: Since starting Prozac for my major depressive disorder, I've experienced severe nausea and vomiting. Is this related to the medication?\",\n",
       "  'output': {'drug_name': 'Prozac',\n",
       "   'adverse_events': ['severe nausea', 'vomiting']}},\n",
       " {'input': \"Ava Davis\\nava.davis@email.com\\n789 Maple Road, Los Angeles, CA 90101\\n555-345-6789, United States\\n\\nRelationship to XYZ Pharma Inc.: Patient\\nReason for contacting: Adverse Event\\n\\nMessage: I've been prescribed Prozac for my obsessive-compulsive disorder, and I'm having unusual dreams and trouble sleeping (insomnia). Could this be related to the medication?\",\n",
       "  'output': {'drug_name': 'Prozac',\n",
       "   'adverse_events': ['unusual dreams', 'trouble sleeping (insomnia)']}},\n",
       " {'input': \"Liam Johnson\\nliam.johnson@email.com\\n234 Cedar Lane, San Francisco, CA 94101\\n555-456-7890, United States\\n\\nRelationship to XYZ Pharma Inc.: Patient\\nReason for contacting: Adverse Event\\n\\nMessage: I've been using Prozac for my major depressive disorder, and I've noticed blurred vision and a feeling of dizziness. Is this a known side effect of the medication?\",\n",
       "  'output': {'drug_name': 'Prozac',\n",
       "   'adverse_events': ['blurred vision', 'dizziness']}},\n",
       " {'input': \"Sophia Martin\\nsophia.martin@email.com\\n567 Pine Street, Denver, CO 80101\\n555-567-8901, United States\\n\\nRelationship to XYZ Pharma Inc.: Patient\\nReason for contacting: Adverse Event\\n\\nMessage: Since taking Prozac for my panic disorder, I've had trouble sleeping (insomnia) and experienced unusual tiredness. Is this related to the medication?\",\n",
       "  'output': {'drug_name': 'Prozac',\n",
       "   'adverse_events': ['trouble sleeping (insomnia)', 'unusual tiredness']}},\n",
       " {'input': \"Ella Anderson\\nella.anderson@email.com\\n890 Willow Avenue, Miami, FL 33101\\n555-678-9012, United States\\n\\nRelationship to XYZ Pharma Inc.: Patient\\nReason for contacting: Adverse Event\\n\\nMessage: I'm on Prozac for my major depressive disorder, and I've developed an upset stomach and diarrhea. Could this be related to the medication?\",\n",
       "  'output': {'drug_name': 'Prozac',\n",
       "   'adverse_events': ['upset stomach', 'diarrhea']}},\n",
       " {'input': \"Mason White\\nmason.white@email.com\\n345 Birch Road, Seattle, WA 98101\\n555-789-0123, United States\\n\\nRelationship to XYZ Pharma Inc.: Patient\\nReason for contacting: Adverse Event\\n\\nMessage: I've been prescribed Prozac for my obsessive-compulsive disorder, and I've had tremors and muscle shaking. Is this a known side effect of the medication?\",\n",
       "  'output': {'drug_name': 'Prozac',\n",
       "   'adverse_events': ['tremors', 'muscle shaking']}},\n",
       " {'input': \"Aiden Garcia\\naiden.garcia@email.com\\n678 Cedar Lane, Dallas, TX 75201\\n555-890-1234, United States\\n\\nRelationship to XYZ Pharma Inc.: Patient\\nReason for contacting: Adverse Event\\n\\nMessage: Since starting Prozac for my panic disorder, I've experienced unusual behavior and agitation. Is this related to the medication?\",\n",
       "  'output': {'drug_name': 'Prozac',\n",
       "   'adverse_events': ['unusual behavior', 'agitation']}},\n",
       " {'input': \"Isabella Clark\\nisabella.clark@email.com\\n123 Oakwood Drive, Atlanta, GA 30301\\n555-901-2345, United States\\n\\nRelationship to XYZ Pharma Inc.: Patient\\nReason for contacting: Adverse Event\\n\\nMessage: I've been taking Prozac for my major depressive disorder, and I've had an increase in heart rate and chest pain. Is this a known side effect of the medication?\",\n",
       "  'output': {'drug_name': 'Prozac',\n",
       "   'adverse_events': ['increase in heart rate', 'chest pain']}},\n",
       " {'input': \"Lucas Brown\\nlucas.brown@email.com\\n456 Maple Street, Phoenix, AZ 85001\\n555-012-3456, United States\\n\\nRelationship to XYZ Pharma Inc.: Patient\\nReason for contacting: Adverse Event\\n\\nMessage: I'm on Prozac for my obsessive-compulsive disorder, and I've experienced dry mouth and sweating. Could this be related to the medication?\",\n",
       "  'output': {'drug_name': 'Prozac',\n",
       "   'adverse_events': ['dry mouth', 'sweating']}},\n",
       " {'input': \"Madison Turner\\nmadison.turner@email.com\\n789 Elm Street, Houston, TX 77001\\n555-345-6789, United States\\n\\nRelationship to XYZ Pharma Inc.: Patient\\nReason for contacting: Adverse Event\\n\\nMessage: I've been taking Prozac for my major depressive disorder, and I've noticed mood changes, including increased irritability. Is this a common side effect of the medication?\",\n",
       "  'output': {'drug_name': 'Prozac',\n",
       "   'adverse_events': ['mood changes', 'increased irritability']}},\n",
       " {'input': \"Henry Adams\\nhenry.adams@email.com\\n567 Birch Road, San Diego, CA 92101\\n555-456-7890, United States\\n\\nRelationship to XYZ Pharma Inc.: Patient\\nReason for contacting: Adverse Event\\n\\nMessage: I've been prescribed Prozac for my panic disorder, and I've experienced difficulty in concentration and memory problems. Is this related to the medication?\",\n",
       "  'output': {'drug_name': 'Prozac',\n",
       "   'adverse_events': ['difficulty in concentration', 'memory problems']}},\n",
       " {'input': \"Scarlett Foster\\nscarlett.foster@email.com\\n234 Oakwood Drive, Las Vegas, NV 89101\\n555-567-8901, United States\\n\\nRelationship to XYZ Pharma Inc.: Patient\\nReason for contacting: Adverse Event\\n\\nMessage: I've been using Prozac for my obsessive-compulsive disorder, and I've noticed unusual weight loss and loss of appetite. Could this be related to the medication?\",\n",
       "  'output': {'drug_name': 'Prozac',\n",
       "   'adverse_events': ['unusual weight loss', 'loss of appetite']}},\n",
       " {'input': \"Mia Martinez\\nmia.martinez@email.com\\n890 Cedar Lane, Philadelphia, PA 19101\\n555-678-9012, United States\\n\\nRelationship to XYZ Pharma Inc.: Patient\\nReason for contacting: Adverse Event\\n\\nMessage: I've been prescribed Prozac for my major depressive disorder, and I've had an upset stomach and diarrhea. Is this a known side effect of the medication?\",\n",
       "  'output': {'drug_name': 'Prozac',\n",
       "   'adverse_events': ['upset stomach', 'diarrhea']}},\n",
       " {'input': \"Aiden Cooper\\naiden.cooper@email.com\\n123 Pine Street, New York, NY 10001\\n555-901-2345, United States\\n\\nRelationship to XYZ Pharma Inc.: Patient\\nReason for contacting: Adverse Event\\n\\nMessage: Since starting Prozac for my panic disorder, I've experienced tremors and muscle shaking. Is this a known side effect of the medication?\",\n",
       "  'output': {'drug_name': 'Prozac',\n",
       "   'adverse_events': ['tremors', 'muscle shaking']}}]"
      ]
     },
     "execution_count": 3,
     "metadata": {},
     "output_type": "execute_result"
    }
   ],
   "source": [
    "json_data\n"
   ]
  },
  {
   "cell_type": "code",
   "execution_count": 10,
   "metadata": {},
   "outputs": [
    {
     "data": {
      "text/plain": [
       "\" ### Input: \\nEmily Wilson\\nemily.wilson@email.com\\n123 Elm Street, Boston, MA 02101\\n555-123-4567, United States\\n\\nRelationship to XYZ Pharma Inc.: Patient\\nReason for contacting: Adverse Event\\n\\nMessage: I've been taking Prozac for my panic disorder, and I've noticed a decrease in my sex drive and difficulty having an orgasm. Is this a common side effect of the medication?\\n\\n### Response:\""
      ]
     },
     "execution_count": 10,
     "metadata": {},
     "output_type": "execute_result"
    }
   ],
   "source": [
    "full_prompt = f\"\"\" ### Input: \\n{json_data[0][\"input\"]}\\n\\n### Response:\"\"\"\n",
    "full_prompt"
   ]
  },
  {
   "cell_type": "code",
   "execution_count": 12,
   "metadata": {},
   "outputs": [
    {
     "data": {
      "text/plain": [
       "\" ### Input: \\nEmily Wilson\\nemily.wilson@email.com\\n123 Elm Street, Boston, MA 02101\\n555-123-4567, United States\\n\\nRelationship to XYZ Pharma Inc.: Patient\\nReason for contacting: Adverse Event\\n\\nMessage: I've been taking Prozac for my panic disorder, and I've noticed a decrease in my sex drive and difficulty having an orgasm. Is this a common side effect of the medication?\\n\\n### Response:{'drug_name': 'Prozac', 'adverse_events': ['decreased sex drive', 'difficulty having an orgasm']}\""
      ]
     },
     "execution_count": 12,
     "metadata": {},
     "output_type": "execute_result"
    }
   ],
   "source": [
    "full_prompt + str(json_data[0][\"output\"])"
   ]
  },
  {
   "cell_type": "code",
   "execution_count": 33,
   "metadata": {},
   "outputs": [],
   "source": [
    "import json\n",
    "\n",
    "\n",
    "f = open(\"/Users/architkaila/Documents/GitHub/Entity-Extraction-with-LLMs/data-preparation/entity-extraction-data-str.json\", \"r\")\n",
    " \n",
    "data = json.load(f)"
   ]
  },
  {
   "cell_type": "code",
   "execution_count": null,
   "metadata": {},
   "outputs": [],
   "source": []
  }
 ],
 "metadata": {
  "kernelspec": {
   "display_name": "scrape",
   "language": "python",
   "name": "python3"
  },
  "language_info": {
   "codemirror_mode": {
    "name": "ipython",
    "version": 3
   },
   "file_extension": ".py",
   "mimetype": "text/x-python",
   "name": "python",
   "nbconvert_exporter": "python",
   "pygments_lexer": "ipython3",
   "version": "3.10.13"
  }
 },
 "nbformat": 4,
 "nbformat_minor": 2
}
